{
 "cells": [
  {
   "cell_type": "code",
   "execution_count": 2,
   "metadata": {},
   "outputs": [],
   "source": [
    "import requests\n",
    "from bs4 import BeautifulSoup as bs"
   ]
  },
  {
   "cell_type": "code",
   "execution_count": 35,
   "metadata": {},
   "outputs": [
    {
     "data": {
      "text/plain": [
       "200"
      ]
     },
     "execution_count": 35,
     "metadata": {},
     "output_type": "execute_result"
    }
   ],
   "source": [
    "url = \"https://gall.dcinside.com/board/view\"\n",
    "params = {\n",
    "    \"id\": \"bitcoins\",\n",
    "    \"no\":\"5581954\",\n",
    "#     \"_rk\": \"JRL\",\n",
    "    \"page\": \"1\"\n",
    "}\n",
    "headers = {\n",
    "    'User-Agent' : \"\"\n",
    "}\n",
    "resp = requests.get(url, params=params, headers=headers)\n",
    "resp.status_code"
   ]
  },
  {
   "cell_type": "code",
   "execution_count": 36,
   "metadata": {},
   "outputs": [],
   "source": [
    "soup = bs(resp.text,'html.parser')"
   ]
  },
  {
   "cell_type": "code",
   "execution_count": 38,
   "metadata": {},
   "outputs": [
    {
     "data": {
      "text/plain": [
       "[<div class=\"writing_view_box\">\n",
       " <div id=\"zzbang_div\" style=\"display:none\"><span id=\"zzbang_ad\"><script src=\"https://addc.dcinside.com/NetInsight/text/dcinside/pc/body@auto_finance\" type=\"text/javascript\"></script></span></div><pre></pre><div id=\"taboola-above-article-thumbnails\"></div><br/>\n",
       " <script type=\"text/javascript\">\n",
       " \t\t\t  \t\t\t\t\twindow._taboola = window._taboola || [];\n",
       " \t\t\t  \t\t\t\t\t_taboola.push({\n",
       " \t\t\t    \t\t\t\t\tmode: 'thumbnails-f_abp-mode',\n",
       " \t\t\t    \t\t\t\t\tcontainer: 'taboola-above-article-thumbnails',\n",
       " \t\t\t    \t\t\t\t\tplacement: 'Above Article Thumbnails',\n",
       " \t\t\t    \t\t\t\t\ttarget_type: 'mix'\n",
       " \t\t\t  \t\t\t\t\t});\n",
       " \t\t\t\t\t\t\t</script> <div style=\"overflow:hidden;width:900px\">\n",
       " <br> ■ 비트코인 마진거래 ■ 인생역전 대박꿀잼 ■ <br/><p> </p><p></p><p>\n",
       " <br/></p><p></p><p>전세계 1위 거래소 수수료 90% 할인 받기</p> <br/><p></p><p> 클릭 \n",
       " </p><p></p><p><a class=\"tx-link\" href=\"https://twitter.com/dcinpost/status/1227533195668672513\">https://twitter.com/dcinpost/status/1227533195668672513</a></p>\n",
       " <p></p> <br/> 형들 이제 제대로 돈 벌자~~~\t\t\t\t\t\t\t\t</br></div>\n",
       " </div>]"
      ]
     },
     "execution_count": 38,
     "metadata": {},
     "output_type": "execute_result"
    }
   ],
   "source": [
    "soup.select('.writing_view_box')\n",
    "# soup"
   ]
  },
  {
   "cell_type": "code",
   "execution_count": null,
   "metadata": {},
   "outputs": [],
   "source": []
  }
 ],
 "metadata": {
  "kernelspec": {
   "display_name": "Python 3",
   "language": "python",
   "name": "python3"
  },
  "language_info": {
   "codemirror_mode": {
    "name": "ipython",
    "version": 3
   },
   "file_extension": ".py",
   "mimetype": "text/x-python",
   "name": "python",
   "nbconvert_exporter": "python",
   "pygments_lexer": "ipython3",
   "version": "3.7.7"
  }
 },
 "nbformat": 4,
 "nbformat_minor": 4
}
